{
 "cells": [
  {
   "cell_type": "code",
   "execution_count": 2,
   "metadata": {},
   "outputs": [
    {
     "ename": "SystemExit",
     "evalue": "",
     "output_type": "error",
     "traceback": [
      "An exception has occurred, use %tb to see the full traceback.\n",
      "\u001b[1;31mSystemExit\u001b[0m\n"
     ]
    }
   ],
   "source": [
    "import pygame\n",
    "import sys\n",
    "\n",
    "pygame.init()\n",
    "\n",
    "clock = pygame.time.Clock()\n",
    "\n",
    "TILE_SIZE = 24\n",
    "TILE_SIZE2 = 18\n",
    "\n",
    "screen = pygame.display.set_mode((700, 500), 0, 32)\n",
    "pygame.display.set_caption(\"kharazmi game\")\n",
    "\n",
    "# Load background images and scale them\n",
    "background_images = [pygame.transform.scale(pygame.image.load(f\"./Tiles/Backgrounds/{i}.png\"), (60, 60)) for i in range(1, 7)]\n",
    "\n",
    "# Create Rect objects for background images\n",
    "background_rects = [img.get_rect() for img in background_images]\n",
    "\n",
    "grass_img = pygame.image.load(\"./Tiles/tile_0022.png\")\n",
    "dirt_img = pygame.image.load(\"./Tiles/tile_0104.png\")\n",
    "\n",
    "# Calculate the number of tiles to render\n",
    "num_tiles = 15\n",
    "\n",
    "# Game loop\n",
    "while True:\n",
    "    for event in pygame.event.get():\n",
    "        if event.type == pygame.QUIT:\n",
    "            pygame.quit()\n",
    "            sys.exit()\n",
    "\n",
    "    screen.fill((255, 255, 255))\n",
    "\n",
    "    # Render background images\n",
    "    for i, rect in enumerate(background_rects):\n",
    "        screen.blit(background_images[i], rect)\n",
    "\n",
    "    # Render grass and dirt tiles\n",
    "    for g in range(num_tiles):\n",
    "        for i in range(2):\n",
    "            tile_x = g * TILE_SIZE\n",
    "            tile_y = (15 + g + i) * TILE_SIZE\n",
    "            screen.blit(grass_img, (tile_x, tile_y))\n",
    "            screen.blit(dirt_img, (tile_x, tile_y + TILE_SIZE2))\n",
    "\n",
    "    # Update the display\n",
    "    pygame.display.flip()\n",
    "    pygame.display.update()\n",
    "    clock.tick(60)\n"
   ]
  },
  {
   "cell_type": "code",
   "execution_count": 3,
   "metadata": {},
   "outputs": [
    {
     "name": "stdout",
     "output_type": "stream",
     "text": [
      "[8, 4, 5, 3]\n"
     ]
    }
   ],
   "source": [
    "a = [8,4 ,5, 3,2,257,69,32]\n",
    "print(a[:4])"
   ]
  },
  {
   "cell_type": "code",
   "execution_count": 3,
   "metadata": {},
   "outputs": [
    {
     "ename": "SystemExit",
     "evalue": "",
     "output_type": "error",
     "traceback": [
      "An exception has occurred, use %tb to see the full traceback.\n",
      "\u001b[1;31mSystemExit\u001b[0m\n"
     ]
    }
   ],
   "source": [
    "import pygame\n",
    "import sys\n",
    "\n",
    "# Initialize Pygame\n",
    "pygame.init()\n",
    "\n",
    "# Set up constants\n",
    "block_size = 20\n",
    "width = 800\n",
    "height = 600\n",
    "ground_color = (100, 100, 100)\n",
    "\n",
    "# Create Pygame window\n",
    "screen = pygame.display.set_mode((width, height))\n",
    "pygame.display.set_caption(\"Ground with Blocks\")\n",
    "\n",
    "def draw_ground():\n",
    "    for x in range(0, width, block_size):\n",
    "        for y in range(0, height, block_size):\n",
    "            pygame.draw.rect(screen, ground_color, (x, y, block_size, block_size), 1)\n",
    "\n",
    "# Main game loop\n",
    "while True:\n",
    "    for event in pygame.event.get():\n",
    "        if event.type == pygame.QUIT:\n",
    "            pygame.quit()\n",
    "            sys.exit()\n",
    "\n",
    "    # Draw the ground\n",
    "    screen.fill((255, 255, 255))  # Set background color\n",
    "    draw_ground()\n",
    "\n",
    "    pygame.display.flip()\n"
   ]
  },
  {
   "cell_type": "code",
   "execution_count": 15,
   "metadata": {},
   "outputs": [
    {
     "data": {
      "text/plain": [
       "'eee'"
      ]
     },
     "execution_count": 15,
     "metadata": {},
     "output_type": "execute_result"
    }
   ],
   "source": [
    "import random\n",
    "a = [\"kk\", \"jjj\"]\n",
    "b = [\"eee\", \"ggg\"]\n",
    "\n",
    "random.choice([a, b])[0]"
   ]
  },
  {
   "cell_type": "code",
   "execution_count": 19,
   "metadata": {},
   "outputs": [],
   "source": [
    "import pygame\n",
    "import random\n",
    "\n",
    "enemy_list = [pygame.image.load(\"./Tiles/Characters/tile_0002.png\"), pygame.image.load(\"./Tiles/Characters/tile_0003.png\")]\n",
    "enemy_list2 = [pygame.image.load(\"./Tiles/Characters/tile_0004.png\"), pygame.image.load(\"./Tiles/Characters/tile_0005.png\")]"
   ]
  },
  {
   "cell_type": "code",
   "execution_count": 25,
   "metadata": {},
   "outputs": [
    {
     "data": {
      "text/plain": [
       "<Surface(24x24x8 SW)>"
      ]
     },
     "execution_count": 25,
     "metadata": {},
     "output_type": "execute_result"
    }
   ],
   "source": [
    "random.choice([enemy_list, enemy_list2])"
   ]
  },
  {
   "cell_type": "code",
   "execution_count": 4,
   "metadata": {},
   "outputs": [
    {
     "name": "stdout",
     "output_type": "stream",
     "text": [
      "True\n"
     ]
    }
   ],
   "source": [
    "a = [0, 1, 2]\n",
    "print(0 in a)"
   ]
  }
 ],
 "metadata": {
  "kernelspec": {
   "display_name": "Python 3",
   "language": "python",
   "name": "python3"
  },
  "language_info": {
   "codemirror_mode": {
    "name": "ipython",
    "version": 3
   },
   "file_extension": ".py",
   "mimetype": "text/x-python",
   "name": "python",
   "nbconvert_exporter": "python",
   "pygments_lexer": "ipython3",
   "version": "3.11.7"
  }
 },
 "nbformat": 4,
 "nbformat_minor": 2
}
